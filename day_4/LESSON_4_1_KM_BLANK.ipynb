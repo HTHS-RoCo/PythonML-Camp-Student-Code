{
 "cells": [
  {
   "cell_type": "code",
   "execution_count": null,
   "id": "bd3c3650",
   "metadata": {},
   "outputs": [],
   "source": [
    "# Import necessary libraries\n"
   ]
  },
  {
   "cell_type": "code",
   "execution_count": null,
   "id": "32f5b481",
   "metadata": {},
   "outputs": [],
   "source": [
    "# Access Concrete Dataset\n"
   ]
  },
  {
   "cell_type": "code",
   "execution_count": null,
   "id": "927a239f",
   "metadata": {},
   "outputs": [],
   "source": [
    "# Turn the data into clusters, ie. Make Blobs\n"
   ]
  },
  {
   "cell_type": "code",
   "execution_count": null,
   "id": "c5911fbf",
   "metadata": {},
   "outputs": [],
   "source": [
    "# perform PCA on the data"
   ]
  },
  {
   "cell_type": "code",
   "execution_count": null,
   "id": "a830cf77",
   "metadata": {},
   "outputs": [],
   "source": [
    "# Plot PCA data"
   ]
  },
  {
   "cell_type": "code",
   "execution_count": null,
   "id": "a6687fa9",
   "metadata": {},
   "outputs": [],
   "source": [
    "# Perform KMeans Clustering on the data"
   ]
  },
  {
   "cell_type": "code",
   "execution_count": null,
   "id": "b461831f",
   "metadata": {},
   "outputs": [],
   "source": [
    "# Plot data after performing KMeans"
   ]
  },
  {
   "cell_type": "code",
   "execution_count": null,
   "id": "1dae87d2",
   "metadata": {},
   "outputs": [],
   "source": [
    "# Evaluate model using silhouette score"
   ]
  }
 ],
 "metadata": {
  "kernelspec": {
   "display_name": "Python 3",
   "language": "python",
   "name": "python3"
  },
  "language_info": {
   "codemirror_mode": {
    "name": "ipython",
    "version": 3
   },
   "file_extension": ".py",
   "mimetype": "text/x-python",
   "name": "python",
   "nbconvert_exporter": "python",
   "pygments_lexer": "ipython3",
   "version": "3.13.1"
  }
 },
 "nbformat": 4,
 "nbformat_minor": 5
}
