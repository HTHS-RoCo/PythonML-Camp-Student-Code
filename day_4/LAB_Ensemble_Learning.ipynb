{
 "cells": [
  {
   "cell_type": "code",
   "execution_count": 1,
   "id": "fd2a43f3",
   "metadata": {},
   "outputs": [],
   "source": [
    "# import necessary libraries\n",
    "import pandas as pd"
   ]
  },
  {
   "cell_type": "code",
   "execution_count": null,
   "id": "da90f68e",
   "metadata": {},
   "outputs": [],
   "source": [
    "# Access the ensemble_noisy_data dataset"
   ]
  },
  {
   "cell_type": "code",
   "execution_count": 3,
   "id": "d6f9209a",
   "metadata": {},
   "outputs": [],
   "source": [
    "# Scale the data"
   ]
  },
  {
   "cell_type": "code",
   "execution_count": 4,
   "id": "87c62b10",
   "metadata": {},
   "outputs": [],
   "source": [
    "# Visualize the data, first two features"
   ]
  },
  {
   "cell_type": "code",
   "execution_count": 5,
   "id": "072b3071",
   "metadata": {},
   "outputs": [],
   "source": [
    "# Split the data into training and testing sets"
   ]
  },
  {
   "cell_type": "code",
   "execution_count": 6,
   "id": "6c35b7bb",
   "metadata": {},
   "outputs": [],
   "source": [
    "# Set up the model and fit the data to it"
   ]
  },
  {
   "cell_type": "code",
   "execution_count": 7,
   "id": "e725615c",
   "metadata": {},
   "outputs": [],
   "source": [
    "# Predict on the models"
   ]
  },
  {
   "cell_type": "code",
   "execution_count": 8,
   "id": "d2a05331",
   "metadata": {},
   "outputs": [],
   "source": [
    "# Evaluate the model"
   ]
  },
  {
   "cell_type": "code",
   "execution_count": 9,
   "id": "12860ed7",
   "metadata": {},
   "outputs": [],
   "source": [
    "# Print classification report"
   ]
  },
  {
   "cell_type": "code",
   "execution_count": 10,
   "id": "781cc7fe",
   "metadata": {},
   "outputs": [],
   "source": [
    "# Print confusion matrix"
   ]
  }
 ],
 "metadata": {
  "kernelspec": {
   "display_name": "venv",
   "language": "python",
   "name": "python3"
  },
  "language_info": {
   "codemirror_mode": {
    "name": "ipython",
    "version": 3
   },
   "file_extension": ".py",
   "mimetype": "text/x-python",
   "name": "python",
   "nbconvert_exporter": "python",
   "pygments_lexer": "ipython3",
   "version": "3.13.2"
  }
 },
 "nbformat": 4,
 "nbformat_minor": 5
}
