{
 "cells": [
  {
   "cell_type": "code",
   "execution_count": null,
   "id": "7e3add8b",
   "metadata": {},
   "outputs": [],
   "source": [
    "# Import the libraries\n",
    "import pandas as pd\n",
    "import matplotlib.pyplot as plt\n",
    "from sklearn.cluster import KMeans\n",
    "import seaborn as sns\n",
    "from sklearn.preprocessing import StandardScaler"
   ]
  },
  {
   "cell_type": "code",
   "execution_count": null,
   "id": "fc7deae5",
   "metadata": {},
   "outputs": [],
   "source": [
    "# Load dataset\n",
    "df = pd.read_csv(\"data/gen_data.csv\")\n",
    "df.head()"
   ]
  },
  {
   "cell_type": "code",
   "execution_count": null,
   "id": "444b573d",
   "metadata": {},
   "outputs": [],
   "source": [
    "# Extract features and labels\n"
   ]
  },
  {
   "cell_type": "code",
   "execution_count": null,
   "id": "c73a6a86",
   "metadata": {},
   "outputs": [],
   "source": [
    "# import standard scaler and scale the feature data\n"
   ]
  },
  {
   "cell_type": "code",
   "execution_count": null,
   "id": "388d07c9",
   "metadata": {},
   "outputs": [],
   "source": [
    "# Apply KMeans clustering\n"
   ]
  },
  {
   "cell_type": "code",
   "execution_count": null,
   "id": "e09ece9e",
   "metadata": {},
   "outputs": [],
   "source": [
    "# Plot predicted clusters\n",
    "\n"
   ]
  }
 ],
 "metadata": {
  "kernelspec": {
   "display_name": "Python 3",
   "language": "python",
   "name": "python3"
  },
  "language_info": {
   "codemirror_mode": {
    "name": "ipython",
    "version": 3
   },
   "file_extension": ".py",
   "mimetype": "text/x-python",
   "name": "python",
   "nbconvert_exporter": "python",
   "pygments_lexer": "ipython3",
   "version": "3.11.11"
  }
 },
 "nbformat": 4,
 "nbformat_minor": 5
}
