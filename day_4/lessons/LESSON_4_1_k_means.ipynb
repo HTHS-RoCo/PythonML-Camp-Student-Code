{
 "cells": [
  {
   "cell_type": "code",
   "execution_count": null,
   "id": "aa7a6a07",
   "metadata": {},
   "outputs": [],
   "source": [
    "# Import the libraries\n",
    "import pandas as pd\n",
    "import matplotlib.pyplot as plt\n",
    "from sklearn.cluster import KMeans\n",
    "from sklearn.metrics import adjusted_rand_score, adjusted_mutual_info_score, confusion_matrix\n",
    "import seaborn as sns"
   ]
  },
  {
   "cell_type": "code",
   "execution_count": null,
   "id": "d6553dc7",
   "metadata": {},
   "outputs": [],
   "source": [
    "# Load dataset\n",
    "df = pd.read_csv(\"data/gen_data.csv\")\n",
    "\n",
    "# Extract features and labels\n"
   ]
  },
  {
   "cell_type": "code",
   "execution_count": null,
   "id": "e8d5a653",
   "metadata": {},
   "outputs": [],
   "source": [
    "# Apply KMeans clustering"
   ]
  },
  {
   "cell_type": "code",
   "execution_count": null,
   "id": "1b8e920a",
   "metadata": {},
   "outputs": [],
   "source": [
    "# Add cluster labels to the dataframe\n"
   ]
  },
  {
   "cell_type": "code",
   "execution_count": null,
   "id": "8d70379a",
   "metadata": {},
   "outputs": [],
   "source": [
    "# Plot predicted clusters\n"
   ]
  },
  {
   "cell_type": "code",
   "execution_count": null,
   "id": "510bd3a1",
   "metadata": {},
   "outputs": [],
   "source": [
    "# Plot true labels for comparison\n"
   ]
  },
  {
   "cell_type": "code",
   "execution_count": null,
   "id": "01b333a3",
   "metadata": {},
   "outputs": [],
   "source": [
    "# Evaluation metrics\n"
   ]
  },
  {
   "cell_type": "code",
   "execution_count": null,
   "id": "87edad8b",
   "metadata": {},
   "outputs": [],
   "source": [
    "import seaborn as sns\n",
    "# Confusion matrix\n"
   ]
  }
 ],
 "metadata": {
  "language_info": {
   "name": "python"
  }
 },
 "nbformat": 4,
 "nbformat_minor": 5
}
