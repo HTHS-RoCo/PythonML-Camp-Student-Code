{
 "cells": [
  {
   "cell_type": "code",
   "execution_count": 1,
   "id": "bd3c3650",
   "metadata": {},
   "outputs": [],
   "source": [
    "# Import necessary libraries"
   ]
  },
  {
   "cell_type": "code",
   "execution_count": 2,
   "id": "32f5b481",
   "metadata": {},
   "outputs": [],
   "source": [
    "# Access Concrete Dataset"
   ]
  },
  {
   "cell_type": "code",
   "execution_count": 3,
   "id": "927a239f",
   "metadata": {},
   "outputs": [],
   "source": [
    "# Visualize the data (First two features)"
   ]
  },
  {
   "cell_type": "code",
   "execution_count": 4,
   "id": "074fef1f",
   "metadata": {},
   "outputs": [],
   "source": [
    "# Make blobs"
   ]
  },
  {
   "cell_type": "code",
   "execution_count": 5,
   "id": "c5911fbf",
   "metadata": {},
   "outputs": [],
   "source": [
    "# perform PCA on the data"
   ]
  },
  {
   "cell_type": "code",
   "execution_count": 6,
   "id": "7e4f2908",
   "metadata": {},
   "outputs": [],
   "source": [
    "# Plot the PCA results"
   ]
  },
  {
   "cell_type": "code",
   "execution_count": 7,
   "id": "a6687fa9",
   "metadata": {},
   "outputs": [],
   "source": [
    "# Perform KMeans Clustering on the data\n"
   ]
  },
  {
   "cell_type": "code",
   "execution_count": 8,
   "id": "b461831f",
   "metadata": {},
   "outputs": [],
   "source": [
    "# Plot data after performing KMeans\n"
   ]
  },
  {
   "cell_type": "code",
   "execution_count": 9,
   "id": "1dae87d2",
   "metadata": {},
   "outputs": [],
   "source": [
    "# Evaluate using silhouette score\n"
   ]
  }
 ],
 "metadata": {
  "kernelspec": {
   "display_name": "venv",
   "language": "python",
   "name": "python3"
  },
  "language_info": {
   "codemirror_mode": {
    "name": "ipython",
    "version": 3
   },
   "file_extension": ".py",
   "mimetype": "text/x-python",
   "name": "python",
   "nbconvert_exporter": "python",
   "pygments_lexer": "ipython3",
   "version": "3.13.2"
  }
 },
 "nbformat": 4,
 "nbformat_minor": 5
}
