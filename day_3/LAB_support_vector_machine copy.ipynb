{
 "cells": [
  {
   "cell_type": "code",
   "execution_count": 1,
   "id": "64ccc11e",
   "metadata": {},
   "outputs": [],
   "source": [
    "# Import necessary libraries\n",
    "import pandas as pd"
   ]
  },
  {
   "cell_type": "code",
   "execution_count": 2,
   "id": "6c161cc9",
   "metadata": {},
   "outputs": [],
   "source": [
    "# Load the dataset"
   ]
  },
  {
   "cell_type": "code",
   "execution_count": 3,
   "id": "df6348a2",
   "metadata": {},
   "outputs": [],
   "source": [
    "# Visualize the data (first two features)"
   ]
  },
  {
   "cell_type": "code",
   "execution_count": 4,
   "id": "67b6ae79",
   "metadata": {},
   "outputs": [],
   "source": [
    "# Train SVM classifier"
   ]
  },
  {
   "cell_type": "code",
   "execution_count": 5,
   "id": "846dcdb4",
   "metadata": {},
   "outputs": [],
   "source": [
    "# Plot decision boundary\n",
    "from sklearn.inspection import DecisionBoundaryDisplay\n"
   ]
  }
 ],
 "metadata": {
  "kernelspec": {
   "display_name": "venv",
   "language": "python",
   "name": "python3"
  },
  "language_info": {
   "codemirror_mode": {
    "name": "ipython",
    "version": 3
   },
   "file_extension": ".py",
   "mimetype": "text/x-python",
   "name": "python",
   "nbconvert_exporter": "python",
   "pygments_lexer": "ipython3",
   "version": "3.13.2"
  }
 },
 "nbformat": 4,
 "nbformat_minor": 5
}
