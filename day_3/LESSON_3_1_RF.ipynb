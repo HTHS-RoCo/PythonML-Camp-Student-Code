{
 "cells": [
  {
   "cell_type": "code",
   "execution_count": 65,
   "id": "000d0000",
   "metadata": {},
   "outputs": [],
   "source": [
    "# import necessary libraries\n",
    "import pandas as pd"
   ]
  },
  {
   "cell_type": "code",
   "execution_count": 66,
   "id": "597f7e2f",
   "metadata": {},
   "outputs": [],
   "source": [
    "# Load artificial dataset"
   ]
  },
  {
   "cell_type": "code",
   "execution_count": 67,
   "id": "469d763a",
   "metadata": {},
   "outputs": [],
   "source": [
    "from sklearn.model_selection import train_test_split"
   ]
  },
  {
   "cell_type": "code",
   "execution_count": 68,
   "id": "ddc05ac6",
   "metadata": {},
   "outputs": [],
   "source": [
    "# train Decision Tree Classifier\n",
    "from sklearn.ensemble import RandomForestClassifier"
   ]
  },
  {
   "cell_type": "code",
   "execution_count": 69,
   "id": "ad634f24",
   "metadata": {},
   "outputs": [],
   "source": [
    "# Evaluate performance of model using test data"
   ]
  },
  {
   "cell_type": "code",
   "execution_count": 70,
   "id": "15a78ecf",
   "metadata": {},
   "outputs": [],
   "source": [
    "# import necessary libraries and print confusion matrix\n",
    "from sklearn.metrics import confusion_matrix, classification_report, accuracy_score"
   ]
  },
  {
   "cell_type": "code",
   "execution_count": 71,
   "id": "b0eb23ad",
   "metadata": {},
   "outputs": [],
   "source": [
    "# print classification report for evaluation metrics\n"
   ]
  },
  {
   "cell_type": "code",
   "execution_count": 72,
   "id": "6ff411d0",
   "metadata": {},
   "outputs": [],
   "source": [
    "# print accuracy score for evaluation"
   ]
  }
 ],
 "metadata": {
  "kernelspec": {
   "display_name": "venv",
   "language": "python",
   "name": "python3"
  },
  "language_info": {
   "codemirror_mode": {
    "name": "ipython",
    "version": 3
   },
   "file_extension": ".py",
   "mimetype": "text/x-python",
   "name": "python",
   "nbconvert_exporter": "python",
   "pygments_lexer": "ipython3",
   "version": "3.13.2"
  }
 },
 "nbformat": 4,
 "nbformat_minor": 5
}
