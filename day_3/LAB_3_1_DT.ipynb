{
 "cells": [
  {
   "cell_type": "code",
   "execution_count": 2,
   "id": "000d0000",
   "metadata": {},
   "outputs": [],
   "source": [
    "# import necessary libraries\n",
    "import pandas as pd"
   ]
  },
  {
   "cell_type": "code",
   "execution_count": 3,
   "id": "597f7e2f",
   "metadata": {},
   "outputs": [],
   "source": [
    "# Load artificial dataset"
   ]
  },
  {
   "cell_type": "code",
   "execution_count": 4,
   "id": "469d763a",
   "metadata": {},
   "outputs": [],
   "source": [
    "# import necessary libraries and split data for training and testing/evaluation"
   ]
  },
  {
   "cell_type": "code",
   "execution_count": 5,
   "id": "ddc05ac6",
   "metadata": {},
   "outputs": [],
   "source": [
    "# train Decision Tree Classifier"
   ]
  },
  {
   "cell_type": "code",
   "execution_count": 6,
   "id": "ad634f24",
   "metadata": {},
   "outputs": [],
   "source": [
    "# Evaluate performance of model using test data"
   ]
  },
  {
   "cell_type": "code",
   "execution_count": 7,
   "id": "15a78ecf",
   "metadata": {},
   "outputs": [],
   "source": [
    "# import necessary libraries and print confusion matrix"
   ]
  },
  {
   "cell_type": "code",
   "execution_count": 8,
   "id": "b0eb23ad",
   "metadata": {},
   "outputs": [],
   "source": [
    "# print classification report for evaluation metrics"
   ]
  },
  {
   "cell_type": "code",
   "execution_count": 9,
   "id": "6ff411d0",
   "metadata": {},
   "outputs": [],
   "source": [
    "# print accuracy score for evaluation"
   ]
  }
 ],
 "metadata": {
  "kernelspec": {
   "display_name": "venv",
   "language": "python",
   "name": "python3"
  },
  "language_info": {
   "codemirror_mode": {
    "name": "ipython",
    "version": 3
   },
   "file_extension": ".py",
   "mimetype": "text/x-python",
   "name": "python",
   "nbconvert_exporter": "python",
   "pygments_lexer": "ipython3",
   "version": "3.13.2"
  }
 },
 "nbformat": 4,
 "nbformat_minor": 5
}
