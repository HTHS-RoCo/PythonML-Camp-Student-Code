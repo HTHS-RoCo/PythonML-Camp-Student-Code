{
 "cells": [
  {
   "cell_type": "code",
   "execution_count": 84,
   "id": "64ccc11e",
   "metadata": {},
   "outputs": [],
   "source": [
    "# Import necessary libraries\n",
    "import pandas as pd"
   ]
  },
  {
   "cell_type": "code",
   "execution_count": 85,
   "id": "6c161cc9",
   "metadata": {},
   "outputs": [],
   "source": [
    "# Load the banknote dataset \n"
   ]
  },
  {
   "cell_type": "code",
   "execution_count": 86,
   "id": "859bc444",
   "metadata": {},
   "outputs": [],
   "source": [
    "# import necessary libraries and split data for training and testing/evaluation\n",
    "from sklearn.model_selection import train_test_split\n"
   ]
  },
  {
   "cell_type": "code",
   "execution_count": 87,
   "id": "df6348a2",
   "metadata": {},
   "outputs": [],
   "source": [
    "# Visualize the data (first two features)\n",
    "from matplotlib import pyplot as plt"
   ]
  },
  {
   "cell_type": "code",
   "execution_count": 88,
   "id": "67b6ae79",
   "metadata": {},
   "outputs": [],
   "source": [
    "# Train SVM classifier"
   ]
  },
  {
   "cell_type": "code",
   "execution_count": 89,
   "id": "1c1c6d21",
   "metadata": {},
   "outputs": [],
   "source": [
    "# Evaluate the performance of the model"
   ]
  },
  {
   "cell_type": "code",
   "execution_count": 90,
   "id": "846dcdb4",
   "metadata": {},
   "outputs": [],
   "source": [
    "# Plot decision boundary\n"
   ]
  }
 ],
 "metadata": {
  "kernelspec": {
   "display_name": "venv",
   "language": "python",
   "name": "python3"
  },
  "language_info": {
   "codemirror_mode": {
    "name": "ipython",
    "version": 3
   },
   "file_extension": ".py",
   "mimetype": "text/x-python",
   "name": "python",
   "nbconvert_exporter": "python",
   "pygments_lexer": "ipython3",
   "version": "3.13.2"
  }
 },
 "nbformat": 4,
 "nbformat_minor": 5
}
