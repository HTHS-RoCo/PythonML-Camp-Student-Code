{
 "cells": [
  {
   "cell_type": "code",
   "execution_count": 1,
   "id": "71015da8",
   "metadata": {},
   "outputs": [],
   "source": [
    "import pandas as pd"
   ]
  },
  {
   "cell_type": "code",
   "execution_count": 2,
   "id": "5af58586",
   "metadata": {},
   "outputs": [],
   "source": [
    "# Load the sepal data"
   ]
  },
  {
   "cell_type": "code",
   "execution_count": 3,
   "id": "c33a1279",
   "metadata": {},
   "outputs": [],
   "source": [
    "# Plot the data (Sepal length by sepal width)"
   ]
  },
  {
   "cell_type": "code",
   "execution_count": 4,
   "id": "fb8258e8",
   "metadata": {},
   "outputs": [],
   "source": [
    "# Split the data"
   ]
  },
  {
   "cell_type": "code",
   "execution_count": 5,
   "id": "034932d7",
   "metadata": {},
   "outputs": [],
   "source": [
    "# Make & train the SVM "
   ]
  },
  {
   "cell_type": "code",
   "execution_count": 6,
   "id": "ff994d54",
   "metadata": {},
   "outputs": [],
   "source": [
    "# Run the model on the testing and training data"
   ]
  },
  {
   "cell_type": "code",
   "execution_count": 7,
   "id": "e7b610e9",
   "metadata": {},
   "outputs": [],
   "source": [
    "# Get the accuracy score"
   ]
  },
  {
   "cell_type": "code",
   "execution_count": 8,
   "id": "4361479c",
   "metadata": {},
   "outputs": [],
   "source": [
    "# Run the classification report"
   ]
  }
 ],
 "metadata": {
  "kernelspec": {
   "display_name": "venv",
   "language": "python",
   "name": "python3"
  },
  "language_info": {
   "codemirror_mode": {
    "name": "ipython",
    "version": 3
   },
   "file_extension": ".py",
   "mimetype": "text/x-python",
   "name": "python",
   "nbconvert_exporter": "python",
   "pygments_lexer": "ipython3",
   "version": "3.13.2"
  }
 },
 "nbformat": 4,
 "nbformat_minor": 5
}
