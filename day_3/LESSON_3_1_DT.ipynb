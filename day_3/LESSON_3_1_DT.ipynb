{
 "cells": [
  {
   "cell_type": "code",
   "execution_count": 27,
   "id": "000d0000",
   "metadata": {},
   "outputs": [],
   "source": [
    "# import necessary libraries"
   ]
  },
  {
   "cell_type": "code",
   "execution_count": 28,
   "id": "597f7e2f",
   "metadata": {},
   "outputs": [],
   "source": [
    "# Load artificial dataset"
   ]
  },
  {
   "cell_type": "code",
   "execution_count": 29,
   "id": "469d763a",
   "metadata": {},
   "outputs": [],
   "source": [
    "from sklearn.model_selection import train_test_split"
   ]
  },
  {
   "cell_type": "code",
   "execution_count": 30,
   "id": "ddc05ac6",
   "metadata": {},
   "outputs": [],
   "source": [
    "# train Decision Tree Classifier\n",
    "from sklearn.tree import DecisionTreeClassifier"
   ]
  },
  {
   "cell_type": "code",
   "execution_count": 31,
   "id": "ad634f24",
   "metadata": {},
   "outputs": [],
   "source": [
    "# Evaluate performance of model using test data"
   ]
  },
  {
   "cell_type": "code",
   "execution_count": 32,
   "id": "15a78ecf",
   "metadata": {},
   "outputs": [],
   "source": [
    "# import necessary libraries and print confusion matrix"
   ]
  },
  {
   "cell_type": "code",
   "execution_count": 33,
   "id": "b0eb23ad",
   "metadata": {},
   "outputs": [
    {
     "name": "stdout",
     "output_type": "stream",
     "text": [
      "              precision    recall  f1-score   support\n",
      "\n",
      "           0       0.96      0.87      0.91       113\n",
      "           1       0.85      0.95      0.90        87\n",
      "\n",
      "    accuracy                           0.91       200\n",
      "   macro avg       0.90      0.91      0.90       200\n",
      "weighted avg       0.91      0.91      0.91       200\n",
      "\n"
     ]
    }
   ],
   "source": [
    "# print classification report for evaluation metrics\n",
    "print(classification_report(y_test, y_pred))\n"
   ]
  },
  {
   "cell_type": "code",
   "execution_count": 34,
   "id": "6ff411d0",
   "metadata": {},
   "outputs": [],
   "source": [
    "# Print accuracy score\n"
   ]
  }
 ],
 "metadata": {
  "kernelspec": {
   "display_name": "venv",
   "language": "python",
   "name": "python3"
  },
  "language_info": {
   "codemirror_mode": {
    "name": "ipython",
    "version": 3
   },
   "file_extension": ".py",
   "mimetype": "text/x-python",
   "name": "python",
   "nbconvert_exporter": "python",
   "pygments_lexer": "ipython3",
   "version": "3.13.2"
  }
 },
 "nbformat": 4,
 "nbformat_minor": 5
}
